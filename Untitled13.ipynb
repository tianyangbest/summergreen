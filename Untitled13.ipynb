{
 "cells": [
  {
   "cell_type": "code",
   "execution_count": 2,
   "metadata": {},
   "outputs": [],
   "source": [
    "from queue import Queue\n",
    "import time,threading\n",
    "q=Queue()"
   ]
  },
  {
   "cell_type": "code",
   "execution_count": null,
   "metadata": {},
   "outputs": [],
   "source": [
    "q.get"
   ]
  },
  {
   "cell_type": "code",
   "execution_count": null,
   "metadata": {},
   "outputs": [],
   "source": [
    "def product(name):\n",
    "    count=1\n",
    "    while True:\n",
    "        q.put('气球兵{}'.format(count))\n",
    "        print ('{}训练气球兵{}只'.format(name,count))\n",
    "        count+=1\n",
    "        time.sleep(5)\n",
    "def consume(name):\n",
    "    while True:\n",
    "        print ('{}使用了{}'.format(name,q.get()))\n",
    "        time.sleep(1)\n",
    "        q.task_done()\n",
    "t1=threading.Thread(target=product,args=('wpp',))\n",
    "t2=threading.Thread(target=consume,args=('ypp',))\n",
    "t3=threading.Thread(target=consume,args=('others',))\n",
    " \n",
    "t1.start()\n",
    "t2.start()\n",
    "t3.start()"
   ]
  },
  {
   "cell_type": "code",
   "execution_count": null,
   "metadata": {},
   "outputs": [],
   "source": [
    "import queue"
   ]
  },
  {
   "cell_type": "code",
   "execution_count": null,
   "metadata": {},
   "outputs": [],
   "source": [
    "queue.Queue"
   ]
  }
 ],
 "metadata": {
  "kernelspec": {
   "display_name": "Python 3",
   "language": "python",
   "name": "python3"
  },
  "language_info": {
   "codemirror_mode": {
    "name": "ipython",
    "version": 3
   },
   "file_extension": ".py",
   "mimetype": "text/x-python",
   "name": "python",
   "nbconvert_exporter": "python",
   "pygments_lexer": "ipython3",
   "version": "3.7.4"
  }
 },
 "nbformat": 4,
 "nbformat_minor": 4
}
