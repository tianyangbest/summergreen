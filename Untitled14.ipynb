{
 "cells": [
  {
   "cell_type": "code",
   "execution_count": null,
   "metadata": {},
   "outputs": [],
   "source": [
    "import pandas as pd\n",
    "import plotly\n",
    "import plotly.express as px"
   ]
  },
  {
   "cell_type": "code",
   "execution_count": null,
   "metadata": {},
   "outputs": [],
   "source": [
    "df = pd.read_parquet(\"\"\"/mnt/stock_data/tmp_cudf/2020-05-28.parquet\"\"\")"
   ]
  },
  {
   "cell_type": "code",
   "execution_count": null,
   "metadata": {},
   "outputs": [],
   "source": [
    "df1 = df.loc[['000001']].reset_index()"
   ]
  },
  {
   "cell_type": "code",
   "execution_count": null,
   "metadata": {},
   "outputs": [],
   "source": [
    "df1 = df1.sort_values('time').reset_index(drop=True)"
   ]
  },
  {
   "cell_type": "code",
   "execution_count": null,
   "metadata": {},
   "outputs": [],
   "source": [
    "df1.shape"
   ]
  },
  {
   "cell_type": "code",
   "execution_count": null,
   "metadata": {},
   "outputs": [],
   "source": [
    "fig = px.line(df1, x=\"time\", y=\"volume\")\n",
    "fig.show()"
   ]
  },
  {
   "cell_type": "code",
   "execution_count": null,
   "metadata": {},
   "outputs": [],
   "source": [
    "dff = pd.read_parquet(\"\"\"/mnt/stock_data/tmp_dask/2020-05-28.parquet\"\"\")"
   ]
  },
  {
   "cell_type": "code",
   "execution_count": null,
   "metadata": {},
   "outputs": [],
   "source": [
    "df2 = dff.loc[[1]].reset_index()"
   ]
  },
  {
   "cell_type": "code",
   "execution_count": null,
   "metadata": {},
   "outputs": [],
   "source": [
    "df2 = df2.sort_values('time').reset_index(drop=True)"
   ]
  },
  {
   "cell_type": "code",
   "execution_count": null,
   "metadata": {},
   "outputs": [],
   "source": [
    "df2.loc[150:160]"
   ]
  },
  {
   "cell_type": "code",
   "execution_count": 1,
   "metadata": {},
   "outputs": [],
   "source": [
    "import easyquotation"
   ]
  },
  {
   "cell_type": "code",
   "execution_count": 2,
   "metadata": {},
   "outputs": [],
   "source": [
    "s = easyquotation.use('sina')"
   ]
  },
  {
   "cell_type": "code",
   "execution_count": 7,
   "metadata": {},
   "outputs": [],
   "source": [
    "a = s.market_snapshot()"
   ]
  },
  {
   "cell_type": "code",
   "execution_count": 10,
   "metadata": {},
   "outputs": [
    {
     "name": "stdout",
     "output_type": "stream",
     "text": [
      "399100 {'name': '新指数', 'open': 8077.329, 'close': 8075.795, 'now': 8058.819, 'high': 8109.208, 'low': 7948.5, 'buy': 0.0, 'sell': 0.0, 'turnover': 28573444224, 'volume': 335859573474.08, 'bid1_volume': 0, 'bid1': 0.0, 'bid2_volume': 0, 'bid2': 0.0, 'bid3_volume': 0, 'bid3': 0.0, 'bid4_volume': 0, 'bid4': 0.0, 'bid5_volume': 0, 'bid5': 0.0, 'ask1_volume': 0, 'ask1': 0.0, 'ask2_volume': 0, 'ask2': 0.0, 'ask3_volume': 0, 'ask3': 0.0, 'ask4_volume': 0, 'ask4': 0.0, 'ask5_volume': 0, 'ask5': 0.0, 'date': '2020-05-28', 'time': '15:00:03'}\n",
      "399103 {'name': '乐富指数', 'open': 6385.402, 'close': 6392.332, 'now': 6373.355, 'high': 6412.928, 'low': 6305.53, 'buy': 0.0, 'sell': 0.0, 'turnover': 7860618265, 'volume': 9798902246.55, 'bid1_volume': 0, 'bid1': 0.0, 'bid2_volume': 0, 'bid2': 0.0, 'bid3_volume': 0, 'bid3': 0.0, 'bid4_volume': 0, 'bid4': 0.0, 'bid5_volume': 0, 'bid5': 0.0, 'ask1_volume': 0, 'ask1': 0.0, 'ask2_volume': 0, 'ask2': 0.0, 'ask3_volume': 0, 'ask3': 0.0, 'ask4_volume': 0, 'ask4': 0.0, 'ask5_volume': 0, 'ask5': 0.0, 'date': '2020-05-28', 'time': '15:00:03'}\n",
      "399231 {'name': '农林指数', 'open': 1553.947, 'close': 1552.409, 'now': 1533.475, 'high': 1562.611, 'low': 1523.214, 'buy': 0.0, 'sell': 0.0, 'turnover': 393067719, 'volume': 5662489754.69, 'bid1_volume': 0, 'bid1': 0.0, 'bid2_volume': 0, 'bid2': 0.0, 'bid3_volume': 0, 'bid3': 0.0, 'bid4_volume': 0, 'bid4': 0.0, 'bid5_volume': 0, 'bid5': 0.0, 'ask1_volume': 0, 'ask1': 0.0, 'ask2_volume': 0, 'ask2': 0.0, 'ask3_volume': 0, 'ask3': 0.0, 'ask4_volume': 0, 'ask4': 0.0, 'ask5_volume': 0, 'ask5': 0.0, 'date': '2020-05-28', 'time': '15:00:03'}\n",
      "399232 {'name': '采矿指数', 'open': 1738.203, 'close': 1734.819, 'now': 1761.044, 'high': 1761.116, 'low': 1736.148, 'buy': 0.0, 'sell': 0.0, 'turnover': 294149076, 'volume': 2299107030.47, 'bid1_volume': 0, 'bid1': 0.0, 'bid2_volume': 0, 'bid2': 0.0, 'bid3_volume': 0, 'bid3': 0.0, 'bid4_volume': 0, 'bid4': 0.0, 'bid5_volume': 0, 'bid5': 0.0, 'ask1_volume': 0, 'ask1': 0.0, 'ask2_volume': 0, 'ask2': 0.0, 'ask3_volume': 0, 'ask3': 0.0, 'ask4_volume': 0, 'ask4': 0.0, 'ask5_volume': 0, 'ask5': 0.0, 'date': '2020-05-28', 'time': '15:00:03'}\n",
      "399233 {'name': '制造指数', 'open': 2082.996, 'close': 2083.42, 'now': 2073.862, 'high': 2089.657, 'low': 2043.047, 'buy': 0.0, 'sell': 0.0, 'turnover': 18190369966, 'volume': 239628942347.81, 'bid1_volume': 0, 'bid1': 0.0, 'bid2_volume': 0, 'bid2': 0.0, 'bid3_volume': 0, 'bid3': 0.0, 'bid4_volume': 0, 'bid4': 0.0, 'bid5_volume': 0, 'bid5': 0.0, 'ask1_volume': 0, 'ask1': 0.0, 'ask2_volume': 0, 'ask2': 0.0, 'ask3_volume': 0, 'ask3': 0.0, 'ask4_volume': 0, 'ask4': 0.0, 'ask5_volume': 0, 'ask5': 0.0, 'date': '2020-05-28', 'time': '15:00:03'}\n",
      "399234 {'name': '水电指数', 'open': 603.838, 'close': 603.14, 'now': 604.344, 'high': 607.153, 'low': 600.904, 'buy': 0.0, 'sell': 0.0, 'turnover': 288828796, 'volume': 1423784766.29, 'bid1_volume': 0, 'bid1': 0.0, 'bid2_volume': 0, 'bid2': 0.0, 'bid3_volume': 0, 'bid3': 0.0, 'bid4_volume': 0, 'bid4': 0.0, 'bid5_volume': 0, 'bid5': 0.0, 'ask1_volume': 0, 'ask1': 0.0, 'ask2_volume': 0, 'ask2': 0.0, 'ask3_volume': 0, 'ask3': 0.0, 'ask4_volume': 0, 'ask4': 0.0, 'ask5_volume': 0, 'ask5': 0.0, 'date': '2020-05-28', 'time': '15:00:03'}\n",
      "399235 {'name': '建筑指数', 'open': 1036.648, 'close': 1034.911, 'now': 1029.698, 'high': 1036.975, 'low': 1017.356, 'buy': 0.0, 'sell': 0.0, 'turnover': 483286115, 'volume': 2941313612.13, 'bid1_volume': 0, 'bid1': 0.0, 'bid2_volume': 0, 'bid2': 0.0, 'bid3_volume': 0, 'bid3': 0.0, 'bid4_volume': 0, 'bid4': 0.0, 'bid5_volume': 0, 'bid5': 0.0, 'ask1_volume': 0, 'ask1': 0.0, 'ask2_volume': 0, 'ask2': 0.0, 'ask3_volume': 0, 'ask3': 0.0, 'ask4_volume': 0, 'ask4': 0.0, 'ask5_volume': 0, 'ask5': 0.0, 'date': '2020-05-28', 'time': '15:00:03'}\n",
      "399236 {'name': '批零指数', 'open': 1412.28, 'close': 1416.167, 'now': 1405.346, 'high': 1416.664, 'low': 1386.787, 'buy': 0.0, 'sell': 0.0, 'turnover': 1369788226, 'volume': 8943281572.3, 'bid1_volume': 0, 'bid1': 0.0, 'bid2_volume': 0, 'bid2': 0.0, 'bid3_volume': 0, 'bid3': 0.0, 'bid4_volume': 0, 'bid4': 0.0, 'bid5_volume': 0, 'bid5': 0.0, 'ask1_volume': 0, 'ask1': 0.0, 'ask2_volume': 0, 'ask2': 0.0, 'ask3_volume': 0, 'ask3': 0.0, 'ask4_volume': 0, 'ask4': 0.0, 'ask5_volume': 0, 'ask5': 0.0, 'date': '2020-05-28', 'time': '15:00:03'}\n",
      "399237 {'name': '运输指数', 'open': 1077.106, 'close': 1076.767, 'now': 1070.333, 'high': 1077.106, 'low': 1056.928, 'buy': 0.0, 'sell': 0.0, 'turnover': 293956771, 'volume': 2548885130.72, 'bid1_volume': 0, 'bid1': 0.0, 'bid2_volume': 0, 'bid2': 0.0, 'bid3_volume': 0, 'bid3': 0.0, 'bid4_volume': 0, 'bid4': 0.0, 'bid5_volume': 0, 'bid5': 0.0, 'ask1_volume': 0, 'ask1': 0.0, 'ask2_volume': 0, 'ask2': 0.0, 'ask3_volume': 0, 'ask3': 0.0, 'ask4_volume': 0, 'ask4': 0.0, 'ask5_volume': 0, 'ask5': 0.0, 'date': '2020-05-28', 'time': '15:00:03'}\n",
      "399238 {'name': '餐饮指数', 'open': 1061.757, 'close': 1061.616, 'now': 1057.934, 'high': 1068.081, 'low': 1038.67, 'buy': 0.0, 'sell': 0.0, 'turnover': 39992404, 'volume': 263215939.79, 'bid1_volume': 0, 'bid1': 0.0, 'bid2_volume': 0, 'bid2': 0.0, 'bid3_volume': 0, 'bid3': 0.0, 'bid4_volume': 0, 'bid4': 0.0, 'bid5_volume': 0, 'bid5': 0.0, 'ask1_volume': 0, 'ask1': 0.0, 'ask2_volume': 0, 'ask2': 0.0, 'ask3_volume': 0, 'ask3': 0.0, 'ask4_volume': 0, 'ask4': 0.0, 'ask5_volume': 0, 'ask5': 0.0, 'date': '2020-05-28', 'time': '15:00:03'}\n",
      "399239 {'name': 'IT指数', 'open': 1852.64, 'close': 1854.223, 'now': 1852.113, 'high': 1865.098, 'low': 1818.599, 'buy': 0.0, 'sell': 0.0, 'turnover': 2857027035, 'volume': 32626295174.67, 'bid1_volume': 0, 'bid1': 0.0, 'bid2_volume': 0, 'bid2': 0.0, 'bid3_volume': 0, 'bid3': 0.0, 'bid4_volume': 0, 'bid4': 0.0, 'bid5_volume': 0, 'bid5': 0.0, 'ask1_volume': 0, 'ask1': 0.0, 'ask2_volume': 0, 'ask2': 0.0, 'ask3_volume': 0, 'ask3': 0.0, 'ask4_volume': 0, 'ask4': 0.0, 'ask5_volume': 0, 'ask5': 0.0, 'date': '2020-05-28', 'time': '15:00:03'}\n",
      "399240 {'name': '金融指数', 'open': 1016.775, 'close': 1013.426, 'now': 1030.732, 'high': 1041.024, 'low': 1015.565, 'buy': 0.0, 'sell': 0.0, 'turnover': 1051954014, 'volume': 10041031428.14, 'bid1_volume': 0, 'bid1': 0.0, 'bid2_volume': 0, 'bid2': 0.0, 'bid3_volume': 0, 'bid3': 0.0, 'bid4_volume': 0, 'bid4': 0.0, 'bid5_volume': 0, 'bid5': 0.0, 'ask1_volume': 0, 'ask1': 0.0, 'ask2_volume': 0, 'ask2': 0.0, 'ask3_volume': 0, 'ask3': 0.0, 'ask4_volume': 0, 'ask4': 0.0, 'ask5_volume': 0, 'ask5': 0.0, 'date': '2020-05-28', 'time': '15:00:03'}\n",
      "399241 {'name': '地产指数', 'open': 2287.923, 'close': 2285.802, 'now': 2300.306, 'high': 2329.208, 'low': 2287.713, 'buy': 0.0, 'sell': 0.0, 'turnover': 674395368, 'volume': 5119835462.59, 'bid1_volume': 0, 'bid1': 0.0, 'bid2_volume': 0, 'bid2': 0.0, 'bid3_volume': 0, 'bid3': 0.0, 'bid4_volume': 0, 'bid4': 0.0, 'bid5_volume': 0, 'bid5': 0.0, 'ask1_volume': 0, 'ask1': 0.0, 'ask2_volume': 0, 'ask2': 0.0, 'ask3_volume': 0, 'ask3': 0.0, 'ask4_volume': 0, 'ask4': 0.0, 'ask5_volume': 0, 'ask5': 0.0, 'date': '2020-05-28', 'time': '15:00:03'}\n",
      "399242 {'name': '商务指数', 'open': 1089.777, 'close': 1090.776, 'now': 1090.949, 'high': 1091.675, 'low': 1061.536, 'buy': 0.0, 'sell': 0.0, 'turnover': 1278203269, 'volume': 9614918980.04, 'bid1_volume': 0, 'bid1': 0.0, 'bid2_volume': 0, 'bid2': 0.0, 'bid3_volume': 0, 'bid3': 0.0, 'bid4_volume': 0, 'bid4': 0.0, 'bid5_volume': 0, 'bid5': 0.0, 'ask1_volume': 0, 'ask1': 0.0, 'ask2_volume': 0, 'ask2': 0.0, 'ask3_volume': 0, 'ask3': 0.0, 'ask4_volume': 0, 'ask4': 0.0, 'ask5_volume': 0, 'ask5': 0.0, 'date': '2020-05-28', 'time': '15:00:03'}\n",
      "399243 {'name': '科研指数', 'open': 2009.366, 'close': 1998.824, 'now': 1996.981, 'high': 2013.166, 'low': 1967.518, 'buy': 0.0, 'sell': 0.0, 'turnover': 261996357, 'volume': 4575072161.07, 'bid1_volume': 0, 'bid1': 0.0, 'bid2_volume': 0, 'bid2': 0.0, 'bid3_volume': 0, 'bid3': 0.0, 'bid4_volume': 0, 'bid4': 0.0, 'bid5_volume': 0, 'bid5': 0.0, 'ask1_volume': 0, 'ask1': 0.0, 'ask2_volume': 0, 'ask2': 0.0, 'ask3_volume': 0, 'ask3': 0.0, 'ask4_volume': 0, 'ask4': 0.0, 'ask5_volume': 0, 'ask5': 0.0, 'date': '2020-05-28', 'time': '15:00:03'}\n",
      "399244 {'name': '公共指数', 'open': 761.811, 'close': 761.73, 'now': 758.274, 'high': 762.852, 'low': 749.3, 'buy': 0.0, 'sell': 0.0, 'turnover': 356282677, 'volume': 2928981816.25, 'bid1_volume': 0, 'bid1': 0.0, 'bid2_volume': 0, 'bid2': 0.0, 'bid3_volume': 0, 'bid3': 0.0, 'bid4_volume': 0, 'bid4': 0.0, 'bid5_volume': 0, 'bid5': 0.0, 'ask1_volume': 0, 'ask1': 0.0, 'ask2_volume': 0, 'ask2': 0.0, 'ask3_volume': 0, 'ask3': 0.0, 'ask4_volume': 0, 'ask4': 0.0, 'ask5_volume': 0, 'ask5': 0.0, 'date': '2020-05-28', 'time': '15:00:03'}\n",
      "399248 {'name': '文化指数', 'open': 959.163, 'close': 959.477, 'now': 959.212, 'high': 963.555, 'low': 945.43, 'buy': 0.0, 'sell': 0.0, 'turnover': 387181487, 'volume': 2777936151.36, 'bid1_volume': 0, 'bid1': 0.0, 'bid2_volume': 0, 'bid2': 0.0, 'bid3_volume': 0, 'bid3': 0.0, 'bid4_volume': 0, 'bid4': 0.0, 'bid5_volume': 0, 'bid5': 0.0, 'ask1_volume': 0, 'ask1': 0.0, 'ask2_volume': 0, 'ask2': 0.0, 'ask3_volume': 0, 'ask3': 0.0, 'ask4_volume': 0, 'ask4': 0.0, 'ask5_volume': 0, 'ask5': 0.0, 'date': '2020-05-28', 'time': '15:00:03'}\n",
      "399249 {'name': '综企指数', 'open': 811.188, 'close': 816.657, 'now': 805.618, 'high': 823.336, 'low': 795.192, 'buy': 0.0, 'sell': 0.0, 'turnover': 213890597, 'volume': 2218617039.74, 'bid1_volume': 0, 'bid1': 0.0, 'bid2_volume': 0, 'bid2': 0.0, 'bid3_volume': 0, 'bid3': 0.0, 'bid4_volume': 0, 'bid4': 0.0, 'bid5_volume': 0, 'bid5': 0.0, 'ask1_volume': 0, 'ask1': 0.0, 'ask2_volume': 0, 'ask2': 0.0, 'ask3_volume': 0, 'ask3': 0.0, 'ask4_volume': 0, 'ask4': 0.0, 'ask5_volume': 0, 'ask5': 0.0, 'date': '2020-05-28', 'time': '15:00:03'}\n",
      "399354 {'name': '分析师指数', 'open': 6721.512, 'close': 6721.519, 'now': 6725.816, 'high': 6771.638, 'low': 6650.981, 'buy': 0.0, 'sell': 0.0, 'turnover': 3407977720, 'volume': 80300053210.44, 'bid1_volume': 0, 'bid1': 0.0, 'bid2_volume': 0, 'bid2': 0.0, 'bid3_volume': 0, 'bid3': 0.0, 'bid4_volume': 0, 'bid4': 0.0, 'bid5_volume': 0, 'bid5': 0.0, 'ask1_volume': 0, 'ask1': 0.0, 'ask2_volume': 0, 'ask2': 0.0, 'ask3_volume': 0, 'ask3': 0.0, 'ask4_volume': 0, 'ask4': 0.0, 'ask5_volume': 0, 'ask5': 0.0, 'date': '2020-05-28', 'time': '15:01:48'}\n",
      "399398 {'name': '绩效指数', 'open': 9483.76, 'close': 9480.235, 'now': 9440.397, 'high': 9494.154, 'low': 9325.987, 'buy': 0.0, 'sell': 0.0, 'turnover': 1295182884, 'volume': 38219044350.6, 'bid1_volume': 0, 'bid1': 0.0, 'bid2_volume': 0, 'bid2': 0.0, 'bid3_volume': 0, 'bid3': 0.0, 'bid4_volume': 0, 'bid4': 0.0, 'bid5_volume': 0, 'bid5': 0.0, 'ask1_volume': 0, 'ask1': 0.0, 'ask2_volume': 0, 'ask2': 0.0, 'ask3_volume': 0, 'ask3': 0.0, 'ask4_volume': 0, 'ask4': 0.0, 'ask5_volume': 0, 'ask5': 0.0, 'date': '2020-05-28', 'time': '15:01:48'}\n",
      "399481 {'name': '企债指数', 'open': 129.049, 'close': 129.049, 'now': 129.044, 'high': 129.052, 'low': 129.042, 'buy': 0.0, 'sell': 0.0, 'turnover': 3504156, 'volume': 314340235.69, 'bid1_volume': 0, 'bid1': 0.0, 'bid2_volume': 0, 'bid2': 0.0, 'bid3_volume': 0, 'bid3': 0.0, 'bid4_volume': 0, 'bid4': 0.0, 'bid5_volume': 0, 'bid5': 0.0, 'ask1_volume': 0, 'ask1': 0.0, 'ask2_volume': 0, 'ask2': 0.0, 'ask3_volume': 0, 'ask3': 0.0, 'ask4_volume': 0, 'ask4': 0.0, 'ask5_volume': 0, 'ask5': 0.0, 'date': '2020-05-28', 'time': '15:01:48'}\n",
      "399901 {'name': '小康指数', 'open': 4491.501, 'close': 4487.672, 'now': 4489.901, 'high': 4532.707, 'low': 4464.251, 'buy': 0.0, 'sell': 0.0, 'turnover': 3110844600, 'volume': 31868615272.0, 'bid1_volume': 0, 'bid1': 0.0, 'bid2_volume': 0, 'bid2': 0.0, 'bid3_volume': 0, 'bid3': 0.0, 'bid4_volume': 0, 'bid4': 0.0, 'bid5_volume': 0, 'bid5': 0.0, 'ask1_volume': 0, 'ask1': 0.0, 'ask2_volume': 0, 'ask2': 0.0, 'ask3_volume': 0, 'ask3': 0.0, 'ask4_volume': 0, 'ask4': 0.0, 'ask5_volume': 0, 'ask5': 0.0, 'date': '2020-05-28', 'time': '15:00:42'}\n",
      "399959 {'name': '军工指数', 'open': 1090.566, 'close': 1092.344, 'now': 1090.744, 'high': 1096.801, 'low': 1074.567, 'buy': 0.0, 'sell': 0.0, 'turnover': 722633162, 'volume': 11389788035.51, 'bid1_volume': 0, 'bid1': 0.0, 'bid2_volume': 0, 'bid2': 0.0, 'bid3_volume': 0, 'bid3': 0.0, 'bid4_volume': 0, 'bid4': 0.0, 'bid5_volume': 0, 'bid5': 0.0, 'ask1_volume': 0, 'ask1': 0.0, 'ask2_volume': 0, 'ask2': 0.0, 'ask3_volume': 0, 'ask3': 0.0, 'ask4_volume': 0, 'ask4': 0.0, 'ask5_volume': 0, 'ask5': 0.0, 'date': '2020-05-28', 'time': '15:01:48'}\n"
     ]
    }
   ],
   "source": [
    "for k, v in a.items():\n",
    "    if '指数' in v['name']:\n",
    "        print(k, v)"
   ]
  },
  {
   "cell_type": "code",
   "execution_count": 11,
   "metadata": {},
   "outputs": [],
   "source": [
    "from summergreen.fetchers import quotation"
   ]
  },
  {
   "cell_type": "code",
   "execution_count": 12,
   "metadata": {},
   "outputs": [],
   "source": [
    "sq = quotation.use(\"sina\")"
   ]
  },
  {
   "cell_type": "code",
   "execution_count": 13,
   "metadata": {},
   "outputs": [],
   "source": [
    "b = sq.market_snapshot()"
   ]
  },
  {
   "cell_type": "code",
   "execution_count": 15,
   "metadata": {},
   "outputs": [
    {
     "name": "stdout",
     "output_type": "stream",
     "text": [
      "000001#2020-05-28 15:00:03 13.070,13.180,12.810,96076031,1255226999.490,163065,13.060,197080,13.050,192600,13.040,211700,13.030,71700,13.020,234160,13.070,256800,13.080,198600,13.090,215500,13.100,149800,13.110\n",
      "000001#2020-05-28 15:12:47 2846.2217,2861.9241,2820.1455,207546019,239234260636,0,0,0,0,0,0,0,0,0,0,0,0,0,0,0,0,0,0,0,0\n"
     ]
    }
   ],
   "source": [
    "for k, v in b.items():\n",
    "    if '000001' in k:\n",
    "        print(k, v)"
   ]
  },
  {
   "cell_type": "code",
   "execution_count": 16,
   "metadata": {},
   "outputs": [],
   "source": [
    "import easyquotation"
   ]
  },
  {
   "cell_type": "code",
   "execution_count": 17,
   "metadata": {},
   "outputs": [
    {
     "data": {
      "text/plain": [
       "<module 'easyquotation' from '/root/miniconda3/lib/python3.7/site-packages/easyquotation/__init__.py'>"
      ]
     },
     "execution_count": 17,
     "metadata": {},
     "output_type": "execute_result"
    }
   ],
   "source": [
    "easyquotation"
   ]
  },
  {
   "cell_type": "code",
   "execution_count": null,
   "metadata": {},
   "outputs": [],
   "source": []
  }
 ],
 "metadata": {
  "kernelspec": {
   "display_name": "Python 3",
   "language": "python",
   "name": "python3"
  },
  "language_info": {
   "codemirror_mode": {
    "name": "ipython",
    "version": 3
   },
   "file_extension": ".py",
   "mimetype": "text/x-python",
   "name": "python",
   "nbconvert_exporter": "python",
   "pygments_lexer": "ipython3",
   "version": "3.7.4"
  }
 },
 "nbformat": 4,
 "nbformat_minor": 4
}
